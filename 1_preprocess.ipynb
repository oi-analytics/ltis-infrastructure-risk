{
 "cells": [
  {
   "cell_type": "markdown",
   "metadata": {
    "deletable": true,
    "editable": true
   },
   "source": [
    "# Load to database\n",
    "\n",
    "Rename and organize hazard, network and customer data.\n",
    "\n",
    "Pre-requisites:\n",
    "- python packages (`jupyter`, `psycopg2`, `fiona`).\n",
    "- PostgreSQL database with PostGIS extension activated.\n",
    "- database connection details saved to `config.json`"
   ]
  },
  {
   "cell_type": "code",
   "execution_count": null,
   "metadata": {
    "collapsed": false,
    "deletable": true,
    "editable": true
   },
   "outputs": [],
   "source": [
    "import glob\n",
    "import json\n",
    "\n",
    "import psycopg2\n",
    "import fiona\n",
    "import geopandas"
   ]
  },
  {
   "cell_type": "markdown",
   "metadata": {
    "deletable": true,
    "editable": true
   },
   "source": [
    "Load config from `config.json` (copy template from `config-template.json` and edit details)."
   ]
  },
  {
   "cell_type": "code",
   "execution_count": null,
   "metadata": {
    "collapsed": false,
    "deletable": true,
    "editable": true
   },
   "outputs": [],
   "source": [
    "with open('config.json', 'r') as fh:\n",
    "    config = json.load(fh)"
   ]
  },
  {
   "cell_type": "markdown",
   "metadata": {
    "deletable": true,
    "editable": true
   },
   "source": [
    "Connect to the database."
   ]
  },
  {
   "cell_type": "code",
   "execution_count": null,
   "metadata": {
    "collapsed": false,
    "deletable": true,
    "editable": true
   },
   "outputs": [],
   "source": [
    "conn = psycopg2.connect(**config['database'])"
   ]
  },
  {
   "cell_type": "markdown",
   "metadata": {
    "deletable": true,
    "editable": true
   },
   "source": [
    "## Create tables\n",
    "\n",
    "Set up database tables for data loading:\n",
    "- hazard outlines and scenarios\n",
    "- infrastructure network nodes and edges\n",
    "- boundaries and regions\n",
    "- buildings"
   ]
  },
  {
   "cell_type": "markdown",
   "metadata": {
    "deletable": true,
    "editable": true
   },
   "source": [
    "`hazard_modelled` table will contain modelled hazard extents"
   ]
  },
  {
   "cell_type": "code",
   "execution_count": null,
   "metadata": {
    "collapsed": false,
    "deletable": true,
    "editable": true
   },
   "outputs": [],
   "source": [
    "with conn:\n",
    "    with conn.cursor() as cur:\n",
    "        cur.execute(\"DROP TABLE IF EXISTS hazard_modelled\")\n",
    "        cur.execute(\"\"\"CREATE TABLE \n",
    "        hazard_modelled (\n",
    "            id serial PRIMARY KEY,\n",
    "            return_period int,\n",
    "            model varchar(20),\n",
    "            attributes jsonb,\n",
    "            geom geometry(GEOMETRY,27700)\n",
    "        );\n",
    "        \"\"\")"
   ]
  },
  {
   "cell_type": "markdown",
   "metadata": {
    "deletable": true,
    "editable": true
   },
   "source": [
    "`hazard_historic` table will contain historic hazard extents"
   ]
  },
  {
   "cell_type": "code",
   "execution_count": null,
   "metadata": {
    "collapsed": true,
    "deletable": true,
    "editable": true
   },
   "outputs": [],
   "source": [
    "with conn:\n",
    "    with conn.cursor() as cur:\n",
    "        cur.execute(\"DROP TABLE IF EXISTS hazard_historic\")\n",
    "        cur.execute(\"\"\"CREATE TABLE\n",
    "        hazard_historic (\n",
    "            id serial PRIMARY KEY,\n",
    "            event varchar(20),\n",
    "            start_date date,\n",
    "            end_date date,\n",
    "            geom geometry(GEOMETRY,27700)\n",
    "        );\n",
    "        \"\"\")"
   ]
  },
  {
   "cell_type": "markdown",
   "metadata": {
    "deletable": true,
    "editable": true
   },
   "source": [
    "`hazard_scenarios` table will contain hazard scenarios derived from historic and modelled extens"
   ]
  },
  {
   "cell_type": "code",
   "execution_count": null,
   "metadata": {
    "collapsed": true,
    "deletable": true,
    "editable": true
   },
   "outputs": [],
   "source": [
    "with conn:\n",
    "    with conn.cursor() as cur:\n",
    "        cur.execute(\"DROP TABLE IF EXISTS hazard_scenarios\")\n",
    "        cur.execute(\"\"\"CREATE TABLE\n",
    "        hazard_scenarios (\n",
    "            id serial PRIMARY KEY,\n",
    "            duration int,\n",
    "            attributes jsonb,\n",
    "            geom geometry(GEOMETRY,27700)\n",
    "        );\n",
    "        \"\"\")"
   ]
  },
  {
   "cell_type": "markdown",
   "metadata": {
    "deletable": true,
    "editable": true
   },
   "source": [
    "`infrastructure_nodes` table will contain nodes from all infrastructure sectors"
   ]
  },
  {
   "cell_type": "code",
   "execution_count": null,
   "metadata": {
    "collapsed": true,
    "deletable": true,
    "editable": true
   },
   "outputs": [],
   "source": [
    "with conn:\n",
    "    with conn.cursor() as cur:\n",
    "        cur.execute(\"DROP TABLE IF EXISTS infrastructure_nodes\")\n",
    "        cur.execute(\"\"\"CREATE TABLE\n",
    "        infrastructure_nodes (\n",
    "            id serial PRIMARY KEY,\n",
    "            original_id varchar(30),\n",
    "            name varchar(40),\n",
    "            infrastructure_sector varchar(10),\n",
    "            centroid geometry(POINT,27700), -- single centroid\n",
    "            footprint geometry(POLYGON,27700), -- service area/catchment\n",
    "            geom geometry(GEOMETRY,27700), -- outline or point as provided\n",
    "            attributes jsonb\n",
    "        );\n",
    "        \"\"\")"
   ]
  },
  {
   "cell_type": "markdown",
   "metadata": {
    "deletable": true,
    "editable": true
   },
   "source": [
    "`infrastructure_edges` table will contain physical edges from infrastructure sectors where available (e.g. road, rail)"
   ]
  },
  {
   "cell_type": "code",
   "execution_count": null,
   "metadata": {
    "collapsed": true,
    "deletable": true,
    "editable": true
   },
   "outputs": [],
   "source": [
    "with conn:\n",
    "    with conn.cursor() as cur:\n",
    "        cur.execute(\"DROP TABLE IF EXISTS infrastructure_edges\")\n",
    "        cur.execute(\"\"\"CREATE TABLE\n",
    "        infrastructure_edges (\n",
    "            id serial PRIMARY KEY,\n",
    "            original_id varchar(30),\n",
    "            name varchar(40),\n",
    "            from_node_id int REFERENCES infrastructure_nodes (id),\n",
    "            to_node_id int REFERENCES infrastructure_nodes (id),\n",
    "            infrastructure_sector varchar(10),\n",
    "            geom geometry(LINESTRING,27700), -- line as provided\n",
    "            attributes jsonb\n",
    "        );\n",
    "        \"\"\")"
   ]
  },
  {
   "cell_type": "markdown",
   "metadata": {
    "deletable": true,
    "editable": true
   },
   "source": [
    "`interdependency_edges` table will contain non-physical or inferred edges of the infrastructure network (e.g. electricity distribution)"
   ]
  },
  {
   "cell_type": "code",
   "execution_count": null,
   "metadata": {
    "collapsed": true,
    "deletable": true,
    "editable": true
   },
   "outputs": [],
   "source": [
    "with conn:\n",
    "    with conn.cursor() as cur:\n",
    "        cur.execute(\"DROP TABLE IF EXISTS interdependency_edges\")\n",
    "        cur.execute(\"\"\"CREATE TABLE\n",
    "        interdependency_edges (\n",
    "            id serial PRIMARY KEY,\n",
    "            original_id varchar(30),\n",
    "            from_node_id int REFERENCES infrastructure_nodes (id),\n",
    "            to_node_id int REFERENCES infrastructure_nodes (id),\n",
    "            infrastructure_sector varchar(10),\n",
    "            geom geometry(LINESTRING,27700), -- straight line from_node->to_node\n",
    "            attributes jsonb\n",
    "        );\n",
    "        \"\"\")"
   ]
  },
  {
   "cell_type": "markdown",
   "metadata": {
    "deletable": true,
    "editable": true
   },
   "source": [
    "`zones` table will contain administrative zones if/when available (e.g. national boundaries, Flood Risk Management Systems)"
   ]
  },
  {
   "cell_type": "code",
   "execution_count": null,
   "metadata": {
    "collapsed": true,
    "deletable": true,
    "editable": true
   },
   "outputs": [],
   "source": [
    "with conn:\n",
    "    with conn.cursor() as cur:\n",
    "        cur.execute(\"DROP TABLE IF EXISTS zones\")\n",
    "        cur.execute(\"\"\"CREATE TABLE\n",
    "        zones (\n",
    "            id serial PRIMARY KEY,\n",
    "            original_id varchar(30),\n",
    "            name varchar(40),\n",
    "            zone_type varchar(20),\n",
    "            geom geometry(GEOMETRY,27700)\n",
    "        );\n",
    "        \"\"\")"
   ]
  },
  {
   "cell_type": "markdown",
   "metadata": {
    "deletable": true,
    "editable": true
   },
   "source": [
    "`buildings` table will contain residential and commercial buildings"
   ]
  },
  {
   "cell_type": "code",
   "execution_count": null,
   "metadata": {
    "collapsed": true,
    "deletable": true,
    "editable": true
   },
   "outputs": [],
   "source": [
    "with conn:\n",
    "    with conn.cursor() as cur:\n",
    "        cur.execute(\"DROP TABLE IF EXISTS buildings\")\n",
    "        cur.execute(\"\"\"CREATE TABLE\n",
    "        buildings (\n",
    "            id serial PRIMARY KEY,\n",
    "            uprn int,\n",
    "            floor_area real,\n",
    "            geom geometry(POINT,27700),\n",
    "            attributes jsonb\n",
    "        );\n",
    "        \"\"\")"
   ]
  },
  {
   "cell_type": "markdown",
   "metadata": {
    "deletable": true,
    "editable": true
   },
   "source": [
    "## Load data\n",
    "\n",
    "Load data as provided, transforming/renaming as necessary\n",
    "- modelled floods\n",
    "- historic floods\n",
    "- airports\n",
    "- electricity cables, overhead lines, substations, towers\n",
    "- gas sites, pipes\n",
    "- ports\n",
    "- railway lines, stations\n",
    "- road links, nodes\n",
    "- wastewater treatment sites\n",
    "- water treatment works\n",
    "- residential and non-residential buildings"
   ]
  },
  {
   "cell_type": "code",
   "execution_count": null,
   "metadata": {
    "collapsed": false,
    "deletable": true,
    "editable": true
   },
   "outputs": [],
   "source": [
    "filenames = glob.glob('../Data/Flooding data/LTISII_RFO/RecordedFloodOutlines_Final/*.shp')"
   ]
  },
  {
   "cell_type": "code",
   "execution_count": null,
   "metadata": {
    "collapsed": false,
    "deletable": true,
    "editable": true
   },
   "outputs": [],
   "source": [
    "filenames"
   ]
  },
  {
   "cell_type": "code",
   "execution_count": null,
   "metadata": {
    "collapsed": false,
    "deletable": true,
    "editable": true
   },
   "outputs": [],
   "source": [
    "df = geopandas.read_file(filenames[0])[\n",
    "    [        \n",
    "        'OUTLINE_CO',\n",
    "        'NAME',\n",
    "        'EVENT_CODE',\n",
    "        'START_DATE',\n",
    "        'END_DATE',\n",
    "        'FLOOD_SRC',\n",
    "        'FLOOD_CAUS',\n",
    "        'FLUVIAL_IN',\n",
    "        'TIDAL_IND',\n",
    "        'COASTAL_IN',\n",
    "        'HFM_IND',\n",
    "        'geometry'\n",
    "    ]\n",
    "]\n",
    "\n",
    "df.rename(columns={\n",
    "    'EVENT_CODE': 'event_code',\n",
    "    'OUTLINE_CO': 'id',\n",
    "    'NAME': 'name',\n",
    "    'START_DATE': 'start_date',\n",
    "    'END_DATE': 'end_date',\n",
    "    'FLOOD_SRC': 'flood_source',\n",
    "    'FLOOD_CAUS': 'flood_cause',\n",
    "    'FLUVIAL_IN': 'fluvial',\n",
    "    'TIDAL_IND': 'tidal',\n",
    "    'COASTAL_IN': 'coastal',\n",
    "    'HFM_IND': 'hfm',\n",
    "    'geometry': 'geom'\n",
    "})"
   ]
  },
  {
   "cell_type": "code",
   "execution_count": null,
   "metadata": {
    "collapsed": true,
    "deletable": true,
    "editable": true
   },
   "outputs": [],
   "source": [
    "df"
   ]
  }
 ],
 "metadata": {
  "kernelspec": {
   "display_name": "Python 3",
   "language": "python",
   "name": "python3"
  },
  "language_info": {
   "codemirror_mode": {
    "name": "ipython",
    "version": 3
   },
   "file_extension": ".py",
   "mimetype": "text/x-python",
   "name": "python",
   "nbconvert_exporter": "python",
   "pygments_lexer": "ipython3",
   "version": "3.6.0"
  }
 },
 "nbformat": 4,
 "nbformat_minor": 2
}
