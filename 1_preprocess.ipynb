{
 "cells": [
  {
   "cell_type": "markdown",
   "metadata": {},
   "source": [
    "# Load to database\n",
    "\n",
    "Rename and organize hazard, network and customer data.\n",
    "\n",
    "Pre-requisites:\n",
    "- python packages (`jupyter`, `psycopg2`, `fiona`).\n",
    "- PostgreSQL database with PostGIS extension activated.\n",
    "- database connection details saved to `config.json`"
   ]
  },
  {
   "cell_type": "code",
   "execution_count": null,
   "metadata": {},
   "outputs": [],
   "source": [
    "import glob\n",
    "import json\n",
    "import os\n",
    "\n",
    "import psycopg2\n",
    "import fiona\n",
    "import geopandas\n",
    "\n",
    "from shapely import wkt"
   ]
  },
  {
   "cell_type": "markdown",
   "metadata": {},
   "source": [
    "Load config from `config.json` (copy template from `config-template.json` and edit details)."
   ]
  },
  {
   "cell_type": "code",
   "execution_count": null,
   "metadata": {},
   "outputs": [],
   "source": [
    "with open('config.json', 'r') as fh:\n",
    "    config = json.load(fh)"
   ]
  },
  {
   "cell_type": "markdown",
   "metadata": {},
   "source": [
    "Connect to the database."
   ]
  },
  {
   "cell_type": "code",
   "execution_count": null,
   "metadata": {},
   "outputs": [],
   "source": [
    "conn = psycopg2.connect(**config['database'])"
   ]
  },
  {
   "cell_type": "markdown",
   "metadata": {},
   "source": [
    "## Create tables\n",
    "\n",
    "Set up database tables for data loading:\n",
    "- hazard outlines and scenarios\n",
    "- infrastructure network nodes and edges\n",
    "- boundaries and regions\n",
    "- buildings"
   ]
  },
  {
   "cell_type": "markdown",
   "metadata": {},
   "source": [
    "`hazard_modelled` table will contain modelled hazard extents"
   ]
  },
  {
   "cell_type": "code",
   "execution_count": null,
   "metadata": {},
   "outputs": [],
   "source": [
    "with conn:\n",
    "    with conn.cursor() as cur:\n",
    "        cur.execute(\"DROP TABLE IF EXISTS hazard_modelled\")\n",
    "        cur.execute(\"\"\"CREATE TABLE \n",
    "        hazard_modelled (\n",
    "            id serial PRIMARY KEY,\n",
    "            return_period int,\n",
    "            model varchar(20),\n",
    "            attributes jsonb,\n",
    "            geom geometry(GEOMETRY,27700)\n",
    "        );\n",
    "        \"\"\")"
   ]
  },
  {
   "cell_type": "markdown",
   "metadata": {},
   "source": [
    "`hazard_historic` table will contain historic hazard extents"
   ]
  },
  {
   "cell_type": "code",
   "execution_count": null,
   "metadata": {},
   "outputs": [],
   "source": [
    "with conn:\n",
    "    with conn.cursor() as cur:\n",
    "        cur.execute(\"DROP TABLE IF EXISTS hazard_historic\")\n",
    "        cur.execute(\"\"\"CREATE TABLE\n",
    "        hazard_historic (\n",
    "            id serial PRIMARY KEY,\n",
    "            event varchar(20),\n",
    "            start_date date,\n",
    "            end_date date,\n",
    "            geom geometry(GEOMETRY,27700)\n",
    "        );\n",
    "        \"\"\")"
   ]
  },
  {
   "cell_type": "markdown",
   "metadata": {},
   "source": [
    "`infrastructure_nodes` table will contain nodes from all infrastructure sectors"
   ]
  },
  {
   "cell_type": "code",
   "execution_count": null,
   "metadata": {},
   "outputs": [],
   "source": [
    "with conn:\n",
    "    with conn.cursor() as cur:\n",
    "        cur.execute(\"DROP TABLE IF EXISTS infrastructure_nodes CASCADE\")\n",
    "        cur.execute(\"\"\"CREATE TABLE\n",
    "        infrastructure_nodes (\n",
    "            oia_id varchar(20) PRIMARY KEY,\n",
    "            source_id varchar(50),\n",
    "            name varchar(60),\n",
    "            sector varchar(20),\n",
    "            asset_type varchar(20),\n",
    "            centroid geometry(POINT,27700), -- single centroid\n",
    "            catchment geometry(POLYGON,27700), -- service area/catchment\n",
    "            geometry geometry(GEOMETRY,27700), -- outline or point as provided\n",
    "            protected boolean,\n",
    "            customers double precision,\n",
    "            elec_id varchar(20) REFERENCES infrastructure_nodes (oia_id)\n",
    "        );\n",
    "        \"\"\")"
   ]
  },
  {
   "cell_type": "markdown",
   "metadata": {},
   "source": [
    "`infrastructure_edges` table will contain physical edges from infrastructure sectors where available (e.g. road, rail)"
   ]
  },
  {
   "cell_type": "code",
   "execution_count": null,
   "metadata": {},
   "outputs": [],
   "source": [
    "with conn:\n",
    "    with conn.cursor() as cur:\n",
    "        cur.execute(\"DROP TABLE IF EXISTS infrastructure_edges\")\n",
    "        cur.execute(\"\"\"CREATE TABLE\n",
    "        infrastructure_edges (\n",
    "            oia_id varchar(40) PRIMARY KEY,\n",
    "            source_id varchar(30),\n",
    "            name varchar(60),\n",
    "            from_oia_id varchar(20) REFERENCES infrastructure_nodes (oia_id),\n",
    "            to_oia_id varchar(20) REFERENCES infrastructure_nodes (oia_id),\n",
    "            sector varchar(20),\n",
    "            geometry geometry(LINESTRING,27700), -- line as provided\n",
    "            protected boolean,\n",
    "            customers double precision\n",
    "        );\n",
    "        \"\"\")"
   ]
  },
  {
   "cell_type": "markdown",
   "metadata": {},
   "source": [
    "`interdependency_edges` table will contain non-physical or inferred edges of the infrastructure network (e.g. electricity distribution)"
   ]
  },
  {
   "cell_type": "code",
   "execution_count": null,
   "metadata": {},
   "outputs": [],
   "source": [
    "with conn:\n",
    "    with conn.cursor() as cur:\n",
    "        cur.execute(\"DROP TABLE IF EXISTS interdependency_edges\")\n",
    "        cur.execute(\"\"\"CREATE TABLE\n",
    "        interdependency_edges (\n",
    "            oia_id varchar(40) PRIMARY KEY,\n",
    "            from_oia_id varchar(20) REFERENCES infrastructure_nodes (oia_id),\n",
    "            to_oia_id varchar(20) REFERENCES infrastructure_nodes (oia_id),\n",
    "            from_sector varchar(20),\n",
    "            to_sector varchar(20),\n",
    "            geometry geometry(LINESTRING,27700), -- line as synthesised\n",
    "            protected boolean\n",
    "        );\n",
    "        \"\"\")"
   ]
  },
  {
   "cell_type": "markdown",
   "metadata": {},
   "source": [
    "`zones` table will contain administrative zones if/when available (e.g. national boundaries, Flood Risk Management Systems)"
   ]
  },
  {
   "cell_type": "code",
   "execution_count": null,
   "metadata": {},
   "outputs": [],
   "source": [
    "with conn:\n",
    "    with conn.cursor() as cur:\n",
    "        cur.execute(\"DROP TABLE IF EXISTS zones\")\n",
    "        cur.execute(\"\"\"CREATE TABLE\n",
    "        zones (\n",
    "            id serial PRIMARY KEY,\n",
    "            original_id varchar(30),\n",
    "            name varchar(40),\n",
    "            zone_type varchar(20),\n",
    "            geom geometry(GEOMETRY,27700)\n",
    "        );\n",
    "        \"\"\")"
   ]
  },
  {
   "cell_type": "markdown",
   "metadata": {},
   "source": [
    "## Load data\n",
    "\n",
    "Load data as provided, transforming/renaming as necessary\n",
    "- modelled floods\n",
    "- historic floods\n",
    "- airports\n",
    "- electricity cables, overhead lines, substations, towers\n",
    "- gas sites, pipes\n",
    "- ports\n",
    "- railway lines, stations\n",
    "- road links, nodes\n",
    "- wastewater treatment sites\n",
    "- water treatment works\n",
    "- residential and non-residential buildings"
   ]
  },
  {
   "cell_type": "markdown",
   "metadata": {},
   "source": [
    "### Nodes"
   ]
  },
  {
   "cell_type": "code",
   "execution_count": null,
   "metadata": {},
   "outputs": [],
   "source": [
    "data_path = config['files']['data_path']"
   ]
  },
  {
   "cell_type": "code",
   "execution_count": null,
   "metadata": {},
   "outputs": [],
   "source": [
    "airports = geopandas.read_file(\n",
    "    os.path.join(data_path, 'airport', 'airports.shp')\n",
    ").drop(\n",
    "    columns=['ID', 'CLASSIFICA', 'FEATCODE', 'Name2', 'Name3', 'this_perio', \n",
    "             'rpt_apt__1', 'rpt_apt_na', 'terminal', 'transit', 'total2017']\n",
    ").rename(\n",
    "    columns={\n",
    "      'LTIS_ID': 'source_id',\n",
    "      'Name1': 'name',\n",
    "      'AADF': 'customers'\n",
    "    }\n",
    ").reset_index()\n",
    "airports['geometry'] = airports.geometry.apply(lambda geom: wkt.loads(geom.to_wkt()))\n",
    "airports['sector'] = 'airport'\n",
    "airports['asset_type'] = 'airport'\n",
    "airports['centroid'] = airports.geometry.centroid\n",
    "airports['oia_id'] = airports['index'].apply(lambda n: \"airp_{}\".format(n))\n",
    "airports.drop(columns=['index'], inplace=True)\n",
    "airports['protected'] = False\n",
    "airports['elec_id'] = None\n",
    "airports"
   ]
  },
  {
   "cell_type": "code",
   "execution_count": null,
   "metadata": {},
   "outputs": [],
   "source": [
    "airports.geometry[0].wkt"
   ]
  },
  {
   "cell_type": "code",
   "execution_count": null,
   "metadata": {},
   "outputs": [],
   "source": [
    "with conn:\n",
    "    with conn.cursor() as cur:\n",
    "        cur.execute(\"\"\"DELETE FROM infrastructure_nodes \n",
    "            WHERE sector = 'airport'\n",
    "            \"\"\")\n",
    "        for airport in airports.itertuples():\n",
    "            cur.execute(\"\"\"INSERT INTO infrastructure_nodes \n",
    "            (\n",
    "                source_id,\n",
    "                name,\n",
    "                customers,\n",
    "                geometry,\n",
    "                sector,\n",
    "                asset_type,\n",
    "                centroid,\n",
    "                oia_id,\n",
    "                protected,\n",
    "                elec_id\n",
    "            )\n",
    "            VALUES\n",
    "            (\n",
    "                %s,\n",
    "                %s,\n",
    "                %s,\n",
    "                ST_SetSRID(%s::geometry, %s),\n",
    "                %s,\n",
    "                %s,\n",
    "                ST_SetSRID(%s::geometry, %s),\n",
    "                %s,\n",
    "                %s,\n",
    "                %s\n",
    "            )\n",
    "            \"\"\", (\n",
    "                airport.source_id,\n",
    "                airport.name,\n",
    "                airport.customers,\n",
    "                airport.geometry.wkb_hex, 27700,\n",
    "                airport.sector,\n",
    "                airport.asset_type,\n",
    "                airport.centroid.wkb_hex, 27700,\n",
    "                airport.oia_id,\n",
    "                airport.protected,\n",
    "                airport.elec_id\n",
    "            ))"
   ]
  },
  {
   "cell_type": "code",
   "execution_count": null,
   "metadata": {},
   "outputs": [],
   "source": [
    "filenames = glob.glob('../Data/Flooding data/LTISII_RFO/RecordedFloodOutlines_Final/*.shp')"
   ]
  },
  {
   "cell_type": "code",
   "execution_count": null,
   "metadata": {},
   "outputs": [],
   "source": [
    "filenames"
   ]
  },
  {
   "cell_type": "code",
   "execution_count": null,
   "metadata": {},
   "outputs": [],
   "source": [
    "df = geopandas.read_file(filenames[0])[\n",
    "    [        \n",
    "        'OUTLINE_CO',\n",
    "        'NAME',\n",
    "        'EVENT_CODE',\n",
    "        'START_DATE',\n",
    "        'END_DATE',\n",
    "        'FLOOD_SRC',\n",
    "        'FLOOD_CAUS',\n",
    "        'FLUVIAL_IN',\n",
    "        'TIDAL_IND',\n",
    "        'COASTAL_IN',\n",
    "        'HFM_IND',\n",
    "        'geometry'\n",
    "    ]\n",
    "]\n",
    "\n",
    "df.rename(columns={\n",
    "    'EVENT_CODE': 'event_code',\n",
    "    'OUTLINE_CO': 'id',\n",
    "    'NAME': 'name',\n",
    "    'START_DATE': 'start_date',\n",
    "    'END_DATE': 'end_date',\n",
    "    'FLOOD_SRC': 'flood_source',\n",
    "    'FLOOD_CAUS': 'flood_cause',\n",
    "    'FLUVIAL_IN': 'fluvial',\n",
    "    'TIDAL_IND': 'tidal',\n",
    "    'COASTAL_IN': 'coastal',\n",
    "    'HFM_IND': 'hfm',\n",
    "    'geometry': 'geom'\n",
    "})"
   ]
  },
  {
   "cell_type": "code",
   "execution_count": null,
   "metadata": {},
   "outputs": [],
   "source": [
    "df"
   ]
  }
 ],
 "metadata": {
  "kernelspec": {
   "display_name": "Python 3",
   "language": "python",
   "name": "python3"
  },
  "language_info": {
   "codemirror_mode": {
    "name": "ipython",
    "version": 3
   },
   "file_extension": ".py",
   "mimetype": "text/x-python",
   "name": "python",
   "nbconvert_exporter": "python",
   "pygments_lexer": "ipython3",
   "version": "3.6.4"
  }
 },
 "nbformat": 4,
 "nbformat_minor": 2
}
